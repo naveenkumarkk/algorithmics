{
 "cells": [
  {
   "cell_type": "code",
   "execution_count": 6,
   "metadata": {},
   "outputs": [
    {
     "ename": "error",
     "evalue": "OpenCV(4.10.0) D:\\a\\opencv-python\\opencv-python\\opencv\\modules\\imgproc\\src\\resize.cpp:4152: error: (-215:Assertion failed) !ssize.empty() in function 'cv::resize'\n",
     "output_type": "error",
     "traceback": [
      "\u001b[1;31m---------------------------------------------------------------------------\u001b[0m",
      "\u001b[1;31merror\u001b[0m                                     Traceback (most recent call last)",
      "Cell \u001b[1;32mIn[6], line 70\u001b[0m\n\u001b[0;32m     68\u001b[0m i_path \u001b[38;5;241m=\u001b[39m random\u001b[38;5;241m.\u001b[39mchoice(data[\u001b[38;5;28mstr\u001b[39m(closest_color)])\n\u001b[0;32m     69\u001b[0m i \u001b[38;5;241m=\u001b[39m cv2\u001b[38;5;241m.\u001b[39mimread(i_path)\n\u001b[1;32m---> 70\u001b[0m i \u001b[38;5;241m=\u001b[39m \u001b[43mcv2\u001b[49m\u001b[38;5;241;43m.\u001b[39;49m\u001b[43mresize\u001b[49m\u001b[43m(\u001b[49m\u001b[43mi\u001b[49m\u001b[43m,\u001b[49m\u001b[43m \u001b[49m\u001b[43m(\u001b[49m\u001b[43mtile_width\u001b[49m\u001b[43m,\u001b[49m\u001b[43m \u001b[49m\u001b[43mtile_height\u001b[49m\u001b[43m)\u001b[49m\u001b[43m)\u001b[49m\n\u001b[0;32m     71\u001b[0m img[y0:y1, x0:x1] \u001b[38;5;241m=\u001b[39m i\n\u001b[0;32m     73\u001b[0m cv2\u001b[38;5;241m.\u001b[39mimshow(\u001b[38;5;124m\"\u001b[39m\u001b[38;5;124mImage\u001b[39m\u001b[38;5;124m\"\u001b[39m, img)\n",
      "\u001b[1;31merror\u001b[0m: OpenCV(4.10.0) D:\\a\\opencv-python\\opencv-python\\opencv\\modules\\imgproc\\src\\resize.cpp:4152: error: (-215:Assertion failed) !ssize.empty() in function 'cv::resize'\n"
     ]
    }
   ],
   "source": [
    "import pathlib\n",
    "import json\n",
    "import os\n",
    "import math\n",
    "import random\n",
    "\n",
    "import numpy as np\n",
    "import cv2\n",
    "\n",
    "def get_average_color(img):\n",
    "    average_color = np.average(np.average(img, axis=0), axis=0)\n",
    "    average_color = np.around(average_color, decimals=-1)\n",
    "    average_color = tuple(int(i) for i in average_color)\n",
    "    return average_color\n",
    "\n",
    "def get_closest_color(color, colors):\n",
    "    cr, cg, cb = color\n",
    "\n",
    "    min_difference = float(\"inf\")\n",
    "    closest_color = None\n",
    "    for c in colors:\n",
    "        r, g, b = eval(c)\n",
    "        difference = math.sqrt((r - cr) ** 2 + (g - cg) ** 2 + (b - cb) ** 2)\n",
    "        if difference < min_difference:\n",
    "            min_difference = difference\n",
    "            closest_color = eval(c)\n",
    "\n",
    "    return closest_color\n",
    "\n",
    "if \"cache.json\" not in os.listdir():\n",
    "    imgs_dir = pathlib.Path(\"animals\")\n",
    "    images = list(imgs_dir.glob(\"*\\\\*.jpg\"))\n",
    "\n",
    "    data = {}\n",
    "    for img_path in images:\n",
    "        img = cv2.imread(str(img_path))\n",
    "        average_color = get_average_color(img)\n",
    "        if str(tuple(average_color)) in data:\n",
    "            data[str(tuple(average_color))].append(str(img_path))\n",
    "        else:\n",
    "            data[str(tuple(average_color))] = [str(img_path)]\n",
    "    with open(\"cache.json\", \"w\") as file:\n",
    "        json.dump(data, file, indent=2, sort_keys=True)\n",
    "    print(\"Caching done\")\n",
    "\n",
    "with open(\"cache.json\", \"r\") as file:\n",
    "    data = json.load(file)\n",
    "\n",
    "img = cv2.imread(\"image.jpg\")\n",
    "img_height, img_width, _ = img.shape\n",
    "tile_height, tile_width = 10, 10\n",
    "num_tiles_h, num_tiles_w = img_height // tile_height, img_width // tile_width\n",
    "img = img[:tile_height * num_tiles_h, :tile_width * num_tiles_w]\n",
    "\n",
    "tiles = []\n",
    "for y in range(0, img_height, tile_height):\n",
    "    for x in range(0, img_width, tile_width):\n",
    "        tiles.append((y, y + tile_height, x, x + tile_width))\n",
    "\n",
    "for tile in tiles:\n",
    "    y0, y1, x0, x1 = tile\n",
    "    try:\n",
    "        average_color = get_average_color(img[y0:y1, x0:x1])\n",
    "    except Exception:\n",
    "        continue\n",
    "    closest_color = get_closest_color(average_color, data.keys())\n",
    "\n",
    "    i_path = random.choice(data[str(closest_color)])\n",
    "    i = cv2.imread(i_path)\n",
    "    i = cv2.resize(i, (tile_width, tile_height))\n",
    "    img[y0:y1, x0:x1] = i\n",
    "\n",
    "    cv2.imshow(\"Image\", img)\n",
    "    cv2.waitKey(1)\n",
    "\n",
    "cv2.imwrite(\"output.jpg\", img)"
   ]
  },
  {
   "cell_type": "code",
   "execution_count": null,
   "metadata": {},
   "outputs": [],
   "source": []
  }
 ],
 "metadata": {
  "kernelspec": {
   "display_name": ".venv",
   "language": "python",
   "name": "python3"
  },
  "language_info": {
   "codemirror_mode": {
    "name": "ipython",
    "version": 3
   },
   "file_extension": ".py",
   "mimetype": "text/x-python",
   "name": "python",
   "nbconvert_exporter": "python",
   "pygments_lexer": "ipython3",
   "version": "3.12.5"
  }
 },
 "nbformat": 4,
 "nbformat_minor": 2
}
