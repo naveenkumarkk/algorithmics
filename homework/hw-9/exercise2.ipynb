{
 "cells": [
  {
   "cell_type": "code",
   "execution_count": null,
   "metadata": {},
   "outputs": [],
   "source": [
    "import networkx as nx\n",
    "import numpy as np\n",
    "import matplotlib.pyplot as plt\n",
    "import pandas as pd\n",
    "\n",
    "\n",
    "def analyze_er_graphs(sizes, probs):\n",
    "    results = []\n",
    "    \n",
    "    for n in sizes:\n",
    "        for p in probs:\n",
    "            G = nx.erdos_renyi_graph(n, p)\n",
    "            \n",
    "            # Calculate metrics\n",
    "            num_nodes = G.number_of_nodes()\n",
    "            num_edges = G.number_of_edges()\n",
    "            avg_degree = np.mean([deg for _, deg in G.degree()])\n",
    "            density = nx.density(G)\n",
    "            largest_cc_size = len(max(nx.connected_components(G), key=len)) if nx.is_connected(G) else max(len(cc) for cc in nx.connected_components(G))\n",
    "            avg_clustering = nx.average_clustering(G)\n",
    "            \n",
    "            avg_path_length = nx.average_shortest_path_length(G) if nx.is_connected(G) else np.nan\n",
    "            \n",
    "            # Collect data\n",
    "            results.append({\n",
    "                'nodes': num_nodes,\n",
    "                'probability': p,\n",
    "                'edges': num_edges,\n",
    "                'avg_degree': avg_degree,\n",
    "                'density': density,\n",
    "                'largest_connected_component': largest_cc_size,\n",
    "                'avg_clustering': avg_clustering,\n",
    "                'avg_path_length': avg_path_length\n",
    "            })\n",
    "    \n",
    "    df = pd.DataFrame(results)\n",
    "    return df\n",
    "\n",
    "# Parameters for simulation\n",
    "sizes = [10, 50, 100, 500, 1000]\n",
    "probs = [0.01, 0.05, 0.1, 0.2, 0.3, 0.5]\n",
    "\n",
    "# Run analysis\n",
    "df = analyze_er_graphs(sizes, probs)\n",
    "\n"
   ]
  },
  {
   "cell_type": "code",
   "execution_count": null,
   "metadata": {},
   "outputs": [],
   "source": []
  }
 ],
 "metadata": {
  "kernelspec": {
   "display_name": ".venv",
   "language": "python",
   "name": "python3"
  },
  "language_info": {
   "codemirror_mode": {
    "name": "ipython",
    "version": 3
   },
   "file_extension": ".py",
   "mimetype": "text/x-python",
   "name": "python",
   "nbconvert_exporter": "python",
   "pygments_lexer": "ipython3",
   "version": "3.12.5"
  }
 },
 "nbformat": 4,
 "nbformat_minor": 2
}
