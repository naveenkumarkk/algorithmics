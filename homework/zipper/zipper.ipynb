{
 "cells": [
  {
   "cell_type": "code",
   "execution_count": 54,
   "metadata": {},
   "outputs": [
    {
     "name": "stdout",
     "output_type": "stream",
     "text": [
      "Collecting cryptography\n",
      "  Using cached cryptography-44.0.0-cp39-abi3-win_amd64.whl.metadata (5.7 kB)\n",
      "Collecting cffi>=1.12 (from cryptography)\n",
      "  Using cached cffi-1.17.1-cp312-cp312-win_amd64.whl.metadata (1.6 kB)\n",
      "Collecting pycparser (from cffi>=1.12->cryptography)\n",
      "  Using cached pycparser-2.22-py3-none-any.whl.metadata (943 bytes)\n",
      "Using cached cryptography-44.0.0-cp39-abi3-win_amd64.whl (3.2 MB)\n",
      "Using cached cffi-1.17.1-cp312-cp312-win_amd64.whl (181 kB)\n",
      "Using cached pycparser-2.22-py3-none-any.whl (117 kB)\n",
      "Installing collected packages: pycparser, cffi, cryptography\n",
      "Successfully installed cffi-1.17.1 cryptography-44.0.0 pycparser-2.22\n"
     ]
    },
    {
     "name": "stderr",
     "output_type": "stream",
     "text": [
      "\n",
      "[notice] A new release of pip is available: 24.2 -> 24.3.1\n",
      "[notice] To update, run: python.exe -m pip install --upgrade pip\n"
     ]
    }
   ],
   "source": [
    "!pip install cryptography"
   ]
  },
  {
   "cell_type": "code",
   "execution_count": 63,
   "metadata": {},
   "outputs": [],
   "source": [
    "import os\n",
    "import json\n",
    "import zlib\n",
    "from cryptography.hazmat.primitives.ciphers import Cipher, algorithms, modes\n",
    "from cryptography.hazmat.primitives.kdf.pbkdf2 import PBKDF2HMAC\n",
    "from cryptography.hazmat.backends import default_backend\n",
    "from cryptography.hazmat.primitives import hashes\n",
    "from cryptography.hazmat.primitives import padding\n",
    "\n",
    "class SecureCompressor:\n",
    "    def __init__(self, password: str, salt: bytes = os.urandom(16)):\n",
    "        self.password = password.encode()\n",
    "        self.salt = salt\n",
    "        self.backend = default_backend()\n",
    "        self.key = self.derive_key(self.password, self.salt)\n",
    "\n",
    "    def derive_key(self, password, salt):\n",
    "        \"\"\"Derive a 256-bit AES key from the password.\"\"\"\n",
    "        kdf = PBKDF2HMAC(\n",
    "            algorithm=hashes.SHA256(),\n",
    "            length=32,\n",
    "            salt=salt,\n",
    "            iterations=100000,\n",
    "            backend=self.backend\n",
    "        )\n",
    "        return kdf.derive(password)\n",
    "\n",
    "    def encrypt(self, data: bytes):\n",
    "        \"\"\"Encrypt data using AES.\"\"\"\n",
    "        iv = os.urandom(16)  # Generate a random Initialization Vector (IV)\n",
    "        cipher = Cipher(algorithms.AES(self.key), modes.CBC(iv), backend=self.backend)\n",
    "        encryptor = cipher.encryptor()\n",
    "\n",
    "        # Pad data to block size (16 bytes)\n",
    "        padder = padding.PKCS7(algorithms.AES.block_size).padder()\n",
    "        padded_data = padder.update(data) + padder.finalize()\n",
    "\n",
    "        encrypted_data = encryptor.update(padded_data) + encryptor.finalize()\n",
    "        return iv + encrypted_data  # Prepend IV for use during decryption\n",
    "\n",
    "    def decrypt(self, data: bytes):\n",
    "        \"\"\"Decrypt data using AES.\"\"\"\n",
    "        iv = data[:16]  # Extract IV from the start of the data\n",
    "        encrypted_data = data[16:]\n",
    "\n",
    "        cipher = Cipher(algorithms.AES(self.key), modes.CBC(iv), backend=self.backend)\n",
    "        decryptor = cipher.decryptor()\n",
    "\n",
    "        padded_data = decryptor.update(encrypted_data) + decryptor.finalize()\n",
    "\n",
    "        # Remove padding\n",
    "        unpadder = padding.PKCS7(algorithms.AES.block_size).unpadder()\n",
    "        original_data = unpadder.update(padded_data) + unpadder.finalize()\n",
    "\n",
    "        return original_data\n",
    "\n",
    "    def compress_and_encrypt_file(self, file_path: str):\n",
    "        \"\"\"Compress and encrypt a single file.\"\"\"\n",
    "        with open(file_path, 'rb') as file:\n",
    "            data = file.read()\n",
    "\n",
    "        # Compress the data\n",
    "        compressed_data = zlib.compress(data)\n",
    "\n",
    "        # Encrypt the compressed data\n",
    "        encrypted_data = self.encrypt(compressed_data)\n",
    "\n",
    "        return encrypted_data\n",
    "\n",
    "    def compress_and_encrypt_folder(self, folder_path: str, output_file: str):\n",
    "        \"\"\"Compress and encrypt an entire folder.\"\"\"\n",
    "        archive = {}\n",
    "\n",
    "        # Walk through the folder\n",
    "        for root, _, files in os.walk(folder_path):\n",
    "            for file in files:\n",
    "                full_path = os.path.join(root, file)\n",
    "                relative_path = os.path.relpath(full_path, folder_path)\n",
    "                encrypted_data = self.compress_and_encrypt_file(full_path)\n",
    "                archive[relative_path] = encrypted_data\n",
    "\n",
    "        # Serialize the archive\n",
    "        serialized_archive = json.dumps(\n",
    "            {k: v.hex() for k, v in archive.items()}\n",
    "        ).encode()\n",
    "\n",
    "        # Encrypt the serialized archive\n",
    "        encrypted_archive = self.encrypt(serialized_archive)\n",
    "\n",
    "        # Save to file\n",
    "        with open(output_file, 'wb') as out_file:\n",
    "            out_file.write(self.salt + encrypted_archive)\n",
    "\n",
    "        print(f\"Folder compressed and encrypted to: {output_file}\")\n",
    "\n",
    "    def decrypt_and_decompress_folder(self, encrypted_file: str, output_folder: str):\n",
    "        \"\"\"Decrypt and decompress an encrypted folder.\"\"\"\n",
    "        with open(encrypted_file, 'rb') as in_file:\n",
    "            data = in_file.read()\n",
    "\n",
    "        # Extract salt and encrypted data\n",
    "        salt = data[:16]\n",
    "        encrypted_archive = data[16:]\n",
    "\n",
    "        # Re-derive the key\n",
    "        self.key = self.derive_key(self.password, salt)\n",
    "\n",
    "        # Decrypt the archive\n",
    "        decrypted_data = self.decrypt(encrypted_archive)\n",
    "\n",
    "        # Deserialize the archive\n",
    "        archive = json.loads(decrypted_data.decode())\n",
    "        archive = {k: bytes.fromhex(v) for k, v in archive.items()}\n",
    "\n",
    "        # Decompress and save files\n",
    "        for relative_path, encrypted_data in archive.items():\n",
    "            decrypted_file_data = zlib.decompress(self.decrypt(encrypted_data))\n",
    "            full_path = os.path.join(output_folder, relative_path)\n",
    "\n",
    "            # Create directories if needed\n",
    "            os.makedirs(os.path.dirname(full_path), exist_ok=True)\n",
    "\n",
    "            with open(full_path, 'wb') as out_file:\n",
    "                out_file.write(decrypted_file_data)\n",
    "\n",
    "        print(f\"Folder decrypted and decompressed to: {output_folder}\")\n"
   ]
  },
  {
   "cell_type": "code",
   "execution_count": 64,
   "metadata": {},
   "outputs": [
    {
     "name": "stdout",
     "output_type": "stream",
     "text": [
      "Folder compressed and encrypted to: encrypted_folder.sec\n"
     ]
    }
   ],
   "source": [
    "# Initialize SecureCompressor with a password\n",
    "password = \"N@veen+pr@nesh28\"\n",
    "secure_compressor = SecureCompressor(password)\n",
    "\n",
    "# Compress and encrypt\n",
    "folder_to_secure = \"hw-8\"\n",
    "encrypted_output = \"encrypted_folder.sec\"\n",
    "secure_compressor.compress_and_encrypt_folder(folder_to_secure, encrypted_output)\n"
   ]
  },
  {
   "cell_type": "code",
   "execution_count": 65,
   "metadata": {},
   "outputs": [
    {
     "name": "stdout",
     "output_type": "stream",
     "text": [
      "Folder decrypted and decompressed to: decompressed_folder\n"
     ]
    }
   ],
   "source": [
    "# Decrypt and decompress the folder\n",
    "output_folder = \"decompressed_folder\"\n",
    "secure_compressor.decrypt_and_decompress_folder(encrypted_output, output_folder)\n"
   ]
  }
 ],
 "metadata": {
  "kernelspec": {
   "display_name": ".venv",
   "language": "python",
   "name": "python3"
  },
  "language_info": {
   "codemirror_mode": {
    "name": "ipython",
    "version": 3
   },
   "file_extension": ".py",
   "mimetype": "text/x-python",
   "name": "python",
   "nbconvert_exporter": "python",
   "pygments_lexer": "ipython3",
   "version": "3.12.5"
  }
 },
 "nbformat": 4,
 "nbformat_minor": 2
}
