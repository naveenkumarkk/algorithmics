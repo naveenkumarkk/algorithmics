{
 "cells": [
  {
   "cell_type": "code",
   "execution_count": 27,
   "metadata": {},
   "outputs": [],
   "source": [
    "from collections import defaultdict\n",
    "import re\n",
    "\n",
    "def suffix_array_construction(s):\n",
    "    suffixes = sorted((s[i:], i) for i in range(len(s)))\n",
    "    suffix_array = [suffix[1] for suffix in suffixes]\n",
    "    return suffix_array\n",
    "\n",
    "def burrows_wheeler_transform(s):\n",
    "    rotations = sorted(s[i:] + s[:i] for i in range(len(s)))\n",
    "    bwt = ''.join(rotation[-1] for rotation in rotations)\n",
    "    return bwt\n",
    "\n",
    "def run_length_encoding_custom(s):\n",
    "    if not s:\n",
    "        return \"\"\n",
    "\n",
    "    encoded_text = []\n",
    "    current_char = s[0]\n",
    "    count = 1\n",
    "\n",
    "    for i in range(1, len(s)):\n",
    "        if s[i] == current_char:\n",
    "            count += 1\n",
    "        else:\n",
    "            if count >= 3:\n",
    "                encoded_text.append(f\"{current_char}#{count}\")  # Use hash # and count for three or more repeats\n",
    "            else:\n",
    "                encoded_text.append(current_char * count)  # Directly append character repeated if less than three\n",
    "            current_char = s[i]\n",
    "            count = 1\n",
    "\n",
    "    # Handle the last run of characters\n",
    "    if count >= 3:\n",
    "        encoded_text.append(f\"{current_char}#{count}\")  # Append last character and count with escape\n",
    "    else:\n",
    "        encoded_text.append(current_char * count)  # Append character repeated if less than three\n",
    "\n",
    "    return ''.join(encoded_text)\n"
   ]
  },
  {
   "cell_type": "code",
   "execution_count": 28,
   "metadata": {},
   "outputs": [
    {
     "name": "stdout",
     "output_type": "stream",
     "text": [
      "RLE_BWT_MSG: \n",
      ":.#3fnl.n.#3a!sfhs!nanna.!!..e:..\"e,nos,rgdsteae,e,,e#5fd,d,ryre,,seede,g,owenhegysneys#4a#3deasae,a,ado,a\"a,,sassehh,s#4tageyaasofe\"sestosseea#3edrya,y,,eaaenr\"ommyfnsr;\"syssgge,ee,s,g,a#7fhesa#3tcns!?,!! #5!tnesendga#3dwsrs#3gsgtsddaareks#6ysstasd$  \"  \" #18\" #5\"  n#3 n#4 n#19 nzzn#6ztpoemmenmmt#4wecTb rrhn#34B#3b#4Bb#3Bb#17BbbBb#4BbBBb#13n#20d  ehzmn#3hC#4nnmnmn#3  n#13enccss #27\" #23i #4i#4n #3ea e#5 #7es #3ao nleenlnleelran  n#3 alnnaa rwrre ahmh#7shhmrmrnhrrvmlrvwhrvhchsslrrplr db#4dnhttrhwib tddmpetpudnhhwhvhvsv#3moitdlrrnnr#5 #3tthho#6uiaf  n#10uiiaat#4gtccTt#8 t#3 scw W t#3 wWctggrfgllwfretzra#4oogsbddhdmnfk s#4lrzhurbWwWwaDac arrureapcdppliarlapcoo #3I aao#4uomi  o#8ioi#3Ioaiio#3a#88o#3a#20oa#3uooueeieaddi#10ok oroeeaiea#5hthsrtldh #6JJrrc#7C#6i i#3bbB ccocilesw#4mmw#3arc  nnrms soiursm#7ia#4nse#3ue#3oaao#4eoe#3oplc p#7c-btco#3eueffhcue#3cee'eattna#3ddaasruaaieunaepa#4ts#3da#7esdoa  eann i s#4—s i  e#10 #3acuhuIxnsp#4aahti  i#4 #14y #3n xnius qtoqocd dots lBcliaaore#3ooao #15eenneder#3crn#3 #3s\n",
      "\n",
      "Suffix Array: [19, 12, 6, 26, 0, 20, 13, 7, 18, 5, 25, 16, 3, 23, 14, 1, 21, 10, 9, 17, 4, 24, 15, 2, 22, 8, 11]\n",
      "BWT: ataa$   nnnnnnMBBlpaaaaaaSi\n",
      "\n",
      "Original Text       : Banana Split Manana Banana$\n",
      "RLE Original Text   : Banana Split Manana Banana$\n",
      "BWT                 : ataa$   nnnnnnMBBlpaaaaaaSi\n",
      "RLE BWT             : ataa$ #3n#6MBBlpa#6Si\n"
     ]
    }
   ],
   "source": [
    "RLE_BWT = \"\"\"\n",
    ":.#3fnl.n.#3a!sfhs!nanna.!!..e:..\"e,nos,rgdsteae,e,,e#5fd,d,ryre,,seede,g,owenhegysneys#4a#3deasae,a,ado,a\"a,,sassehh,s#4tageyaasofe\"sestosseea#3edrya,y,,eaaenr\"ommyfnsr;\"syssgge,ee,s,g,a#7fhesa#3tcns!?,!! #5!tnesendga#3dwsrs#3gsgtsddaareks#6ysstasd$  \"  \" #18\" #5\"  n#3 n#4 n#19 nzzn#6ztpoemmenmmt#4wecTb rrhn#34B#3b#4Bb#3Bb#17BbbBb#4BbBBb#13n#20d  ehzmn#3hC#4nnmnmn#3  n#13enccss #27\" #23i #4i#4n #3ea e#5 #7es #3ao nleenlnleelran  n#3 alnnaa rwrre ahmh#7shhmrmrnhrrvmlrvwhrvhchsslrrplr db#4dnhttrhwib tddmpetpudnhhwhvhvsv#3moitdlrrnnr#5 #3tthho#6uiaf  n#10uiiaat#4gtccTt#8 t#3 scw W t#3 wWctggrfgllwfretzra#4oogsbddhdmnfk s#4lrzhurbWwWwaDac arrureapcdppliarlapcoo #3I aao#4uomi  o#8ioi#3Ioaiio#3a#88o#3a#20oa#3uooueeieaddi#10ok oroeeaiea#5hthsrtldh #6JJrrc#7C#6i i#3bbB ccocilesw#4mmw#3arc  nnrms soiursm#7ia#4nse#3ue#3oaao#4eoe#3oplc p#7c-btco#3eueffhcue#3cee'eattna#3ddaasruaaieunaepa#4ts#3da#7esdoa  eann i s#4—s i  e#10 #3acuhuIxnsp#4aahti  i#4 #14y #3n xnius qtoqocd dots lBcliaaore#3ooao #15eenneder#3crn#3 #3s\n",
    "\"\"\"\n",
    "print( \"RLE_BWT_MSG:\", RLE_BWT )\n",
    "\n",
    "\n",
    "story = \"\"\"\n",
    "Banana Split Manana Banana\n",
    "\"\"\"\n",
    "\n",
    "# Remove extra new lines and prepare the string\n",
    "input_string = ' '.join(story.split()) + \"$\"\n",
    "\n",
    "# Generate the Suffix Array\n",
    "suffix_array = suffix_array_construction(input_string)\n",
    "print(\"Suffix Array:\", suffix_array)\n",
    "\n",
    "# Generate the Burrows-Wheeler Transform\n",
    "bwt = burrows_wheeler_transform(input_string)\n",
    "print(\"BWT:\", bwt)\n",
    "\n",
    "# Generate RLE-encoded text for original and BWT\n",
    "original_rle = run_length_encoding_custom(input_string)\n",
    "bwt_rle = run_length_encoding_custom(bwt)\n",
    "\n",
    "# Print results\n",
    "print(\"\\nOriginal Text       :\", input_string)\n",
    "print(\"RLE Original Text   :\", original_rle)\n",
    "print(\"BWT                 :\", bwt)\n",
    "print(\"RLE BWT             :\", bwt_rle)"
   ]
  },
  {
   "cell_type": "code",
   "execution_count": 29,
   "metadata": {},
   "outputs": [],
   "source": [
    "def decode_rle(rle_string):\n",
    "    \"\"\"\n",
    "    Decodes the RLE-encoded string back to the original string.\n",
    "    The RLE encoding format is like '3a' meaning 'aaa'.\n",
    "    \"\"\"\n",
    "    decoded = []\n",
    "    i = 0\n",
    "    while i < len(rle_string):\n",
    "        # Find the length of the repetition (the number before the character)\n",
    "        run_length = 0\n",
    "        while i < len(rle_string) and rle_string[i].isdigit():\n",
    "            run_length = run_length * 10 + int(rle_string[i])  # Handling multi-digit numbers\n",
    "            i += 1\n",
    "        # Now, rle_string[i] should be the character that repeats\n",
    "        if i < len(rle_string):\n",
    "            decoded.append(rle_string[i] * run_length)\n",
    "            i += 1\n",
    "    return ''.join(decoded)"
   ]
  },
  {
   "cell_type": "code",
   "execution_count": 37,
   "metadata": {},
   "outputs": [],
   "source": [
    "def reverse_bwt(bwt):\n",
    "    \"\"\"\n",
    "    Reverses the Burrows-Wheeler Transform (BWT) to get the original string.\n",
    "    \"\"\"\n",
    "    # Create a table to store BWT's intermediate results\n",
    "    n = len(bwt)\n",
    "    table = ['' for _ in range(n)]  # Create empty rows for the table\n",
    "    \n",
    "    # Sort the BWT string, this will be used to generate the sorted columns of the table\n",
    "    for _ in range(n):\n",
    "        table = [bwt[i] + table[i] for i in range(n)]  # Add the characters from BWT to each row\n",
    "        table.sort()  # Sort the rows to get the proper order\n",
    "\n",
    "    # The original string is the row that ends with the special end-of-string character (e.g., '$')\n",
    "    for row in table:\n",
    "        if row.endswith('$'):\n",
    "            return row  # Return the original string\n",
    "    return ''"
   ]
  },
  {
   "cell_type": "code",
   "execution_count": 47,
   "metadata": {},
   "outputs": [
    {
     "name": "stdout",
     "output_type": "stream",
     "text": [
      "RLE Long Message: \n",
      ":.#3fnl.n.#3a!sfhs!nanna.!!..e:..\"e,nos,rgdsteae,e,,e#5fd,d,ryre,,seede,g,owenhegysneys#4a#3deasae,a,ado,a\"a,,sassehh,s#4tageyaasofe\"sestosseea#3edrya,y,,eaaenr\"ommyfnsr;\"syssgge,ee,s,g,a#7fhesa#3tcns!?,!! #5!tnesendga#3dwsrs#3gsgtsddaareks#6ysstasd$  \"  \" #18\" #5\"  n#3 n#4 n#19 nzzn#6ztpoemmenmmt#4wecTb rrhn#34B#3b#4Bb#3Bb#17BbbBb#4BbBBb#13n#20d  ehzmn#3hC#4nnmnmn#3  n#13enccss #27\" #23i #4i#4n #3ea e#5 #7es #3ao nleenlnleelran  n#3 alnnaa rwrre ahmh#7shhmrmrnhrrvmlrvwhrvhchsslrrplr db#4dnhttrhwib tddmpetpudnhhwhvhvsv#3moitdlrrnnr#5 #3tthho#6uiaf  n#10uiiaat#4gtccTt#8 t#3 scw W t#3 wWctggrfgllwfretzra#4oogsbddhdmnfk s#4lrzhurbWwWwaDac arrureapcdppliarlapcoo #3I aao#4uomi  o#8ioi#3Ioaiio#3a#88o#3a#20oa#3uooueeieaddi#10ok oroeeaiea#5hthsrtldh #6JJrrc#7C#6i i#3bbB ccocilesw#4mmw#3arc  nnrms soiursm#7ia#4nse#3ue#3oaao#4eoe#3oplc p#7c-btco#3eueffhcue#3cee'eattna#3ddaasruaaieunaepa#4ts#3da#7esdoa  eann i s#4—s i  e#10 #3acuhuIxnsp#4aahti  i#4 #14y #3n xnius qtoqocd dots lBcliaaore#3ooao #15eenneder#3crn#3 #3s\n",
      "\n",
      "Decoded RLE Long Message:  fffaaafffffaaaadddtttteeefffffffttt!!!!!dddgggyyyyyy\"\"\"\"\"\"\"\"\"\"\"\"\"\"\"\"\"\"\"\"\"\"\"                          zzzzzzwwwwBBBBBBBBBBBBBBBBBBBBBBBBBBBBBBBBBBbbbBBBBBBBBBBBBBBBBBBBBBBBBBBBBnnnnnnnnnnnnnddddddddddddddddddddhhhnnnn   eeeeeeeeeeeee\"\"\"\"\"\"\"\"\"\"\"\"\"\"\"\"\"\"\"\"\"\"\"\"\"\"\"iiiiiiiiiiiiiiiiiiiiiiiiiiinnnneee     eeeeeeeaaa   sssssssddddmmm     tttuuuuuuuuuuuuuuuugggg              oooollllIIIuuuuiiiiiiiiIIIaaaooooooooooooooooooooooooooooooooooooooooooooooooooooooooooooooooooooooooooooooooooooooooaaaoooooooooooooooooooouuuoooooooooohhhhhJJJJJJCCCCCCCiiiiiibbbmmmmaaaiiiiiiinnnnuuuoooeeeeoooccccccceeecccdddttttdddeeeeeee————          aaaaaaa    yyyyyyyyyyyyyynnnoooeeeeeeeeeeeeeeeccc   sss\n"
     ]
    }
   ],
   "source": [
    "decoded_long_message = decode_rle(RLE_BWT)\n",
    "print(f\"RLE Long Message: {RLE_BWT}\")\n",
    "print(f\"Decoded RLE Long Message:  {decoded_long_message}\")"
   ]
  },
  {
   "cell_type": "code",
   "execution_count": 48,
   "metadata": {},
   "outputs": [
    {
     "name": "stdout",
     "output_type": "stream",
     "text": [
      "RLE Original Message: ataa$ #3n#6MBBlpa#6Si\n",
      "Decoded RLE Message: nnnMMMMMMSSSSSS\n"
     ]
    }
   ],
   "source": [
    "decoded_bwt_rle = decode_rle(bwt_rle)\n",
    "print(f\"RLE Original Message: {bwt_rle}\")\n",
    "print(f\"Decoded RLE Message: {decoded_bwt_rle}\")"
   ]
  },
  {
   "cell_type": "code",
   "execution_count": 49,
   "metadata": {},
   "outputs": [
    {
     "name": "stdout",
     "output_type": "stream",
     "text": [
      "BWT: ataa$   nnnnnnMBBlpaaaaaaSi\n",
      "Reverse BWT: Banana Split Manana Banana$\n"
     ]
    }
   ],
   "source": [
    "reversed_bwt = reverse_bwt(bwt)\n",
    "print(f\"BWT: {bwt}\")\n",
    "print(f\"Reverse BWT: {reversed_bwt}\")"
   ]
  }
 ],
 "metadata": {
  "kernelspec": {
   "display_name": ".venv",
   "language": "python",
   "name": "python3"
  },
  "language_info": {
   "codemirror_mode": {
    "name": "ipython",
    "version": 3
   },
   "file_extension": ".py",
   "mimetype": "text/x-python",
   "name": "python",
   "nbconvert_exporter": "python",
   "pygments_lexer": "ipython3",
   "version": "3.12.5"
  }
 },
 "nbformat": 4,
 "nbformat_minor": 2
}
