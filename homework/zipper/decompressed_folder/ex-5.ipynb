{
 "cells": [
  {
   "cell_type": "code",
   "execution_count": null,
   "metadata": {},
   "outputs": [
    {
     "name": "stdout",
     "output_type": "stream",
     "text": [
      "Testing zlib Compression:\n",
      "Compression Time: 0.0055 seconds\n",
      "Decompression Time: 0.0015 seconds\n",
      "Compressed Size: 3176 bytes\n",
      "Original Size: 574000 bytes\n",
      "Compression Ratio: 0.01\n",
      "\n",
      "Testing gzip Compression:\n",
      "Compression Time: 0.0066 seconds\n",
      "Decompression Time: 0.0020 seconds\n",
      "Decompressed Size: 574000 bytes\n",
      "Original Size: 574000 bytes\n",
      "Compression Ratio: 1.00\n"
     ]
    }
   ],
   "source": [
    "import time\n",
    "import zlib\n",
    "import gzip\n",
    "import os\n",
    "\n",
    "# Function to test compression and decompression with zlib\n",
    "def test_zlib_compression(input_data):\n",
    "    # Compress the data\n",
    "    start_time = time.time()\n",
    "    compressed_data = zlib.compress(input_data.encode())\n",
    "    compression_time = time.time() - start_time\n",
    "    \n",
    "    # Decompress the data\n",
    "    start_time = time.time()\n",
    "    decompressed_data = zlib.decompress(compressed_data).decode()\n",
    "    decompression_time = time.time() - start_time\n",
    "    \n",
    "    return compression_time, decompression_time, len(compressed_data), len(input_data)\n",
    "\n",
    "# Function to test compression and decompression with gzip\n",
    "def test_gzip_compression(input_data):\n",
    "    # Compress the data\n",
    "    start_time = time.time()\n",
    "    compressed_fi\n",
    "    le_path = 'compressed_data.gz'\n",
    "    with gzip.open(compressed_file_path, 'wt') as f:\n",
    "        f.write(input_data)\n",
    "    compression_time = time.time() - start_time\n",
    "    \n",
    "    # Decompress the data\n",
    "    start_time = time.time()\n",
    "    with gzip.open(compressed_file_path, 'rt') as f:\n",
    "        decompressed_data = f.read()\n",
    "    decompression_time = time.time() - start_time\n",
    "    \n",
    "    # Clean up compressed file\n",
    "    os.remove(compressed_file_path)\n",
    "    \n",
    "    return compression_time, decompression_time, len(decompressed_data), len(input_data)\n",
    "\n",
    "input_data = \"Lorem Ipsum is simply dummy text of the printing and typesetting industry. Lorem Ipsum has been the industry's standard dummy text ever since the 1500s, when an unknown printer took a galley of type and scrambled it to make a type specimen book. It has survived not only five centuries, but also the leap into electronic typesetting, remaining essentially unchanged. It was popularised in the 1960s with the release of Letraset sheets containing Lorem Ipsum passages, and more recently with desktop publishing software like Aldus PageMaker including versions of Lorem Ipsum.\" * 1000  \n",
    "\n",
    "# Run the experiments\n",
    "print(\"Testing zlib Compression:\")\n",
    "zlib_compression_time, zlib_decompression_time, zlib_compressed_size, zlib_original_size = test_zlib_compression(input_data)\n",
    "print(f\"Compression Time: {zlib_compression_time:.4f} seconds\")\n",
    "print(f\"Decompression Time: {zlib_decompression_time:.4f} seconds\")\n",
    "print(f\"Compressed Size: {zlib_compressed_size} bytes\")\n",
    "print(f\"Original Size: {zlib_original_size} bytes\")\n",
    "print(f\"Compression Ratio: {zlib_compressed_size / zlib_original_size:.2f}\\n\")\n",
    "\n",
    "print(\"Testing gzip Compression:\")\n",
    "gzip_compression_time, gzip_decompression_time, gzip_decompressed_size, gzip_original_size = test_gzip_compression(input_data)\n",
    "print(f\"Compression Time: {gzip_compression_time:.4f} seconds\")\n",
    "print(f\"Decompression Time: {gzip_decompression_time:.4f} seconds\")\n",
    "print(f\"Decompressed Size: {gzip_decompressed_size} bytes\")\n",
    "print(f\"Original Size: {gzip_original_size} bytes\")\n",
    "print(f\"Compression Ratio: {gzip_decompressed_size / gzip_original_size:.2f}\")\n"
   ]
  }
 ],
 "metadata": {
  "kernelspec": {
   "display_name": ".venv",
   "language": "python",
   "name": "python3"
  },
  "language_info": {
   "codemirror_mode": {
    "name": "ipython",
    "version": 3
   },
   "file_extension": ".py",
   "mimetype": "text/x-python",
   "name": "python",
   "nbconvert_exporter": "python",
   "pygments_lexer": "ipython3",
   "version": "3.12.5"
  }
 },
 "nbformat": 4,
 "nbformat_minor": 2
}
