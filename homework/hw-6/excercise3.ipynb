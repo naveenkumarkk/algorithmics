{
 "cells": [
  {
   "cell_type": "code",
   "execution_count": 2,
   "metadata": {},
   "outputs": [],
   "source": [
    "import heapq\n",
    "import random\n",
    "import time"
   ]
  },
  {
   "cell_type": "code",
   "execution_count": 3,
   "metadata": {},
   "outputs": [],
   "source": [
    "class MaxHeap:\n",
    "    def __init__(self,k):\n",
    "        self.heap = []\n",
    "        self.k = k\n",
    "        \n",
    "    def add(self,value):\n",
    "        if len(self.heap) < self.k:\n",
    "            #add if the heap has less then k elements\n",
    "            heapq.heappush(self.heap,-value)\n",
    "        elif value < -self.heap[0]:\n",
    "            #replace the larger if the new value is smaller\n",
    "            heapq.heapreplace(self.heap,-value)\n",
    "            \n",
    "    def get_kth_smallest(self):\n",
    "        # The largest number in the heap is the k'th smallest value\n",
    "        return -self.heap[0]\n",
    "    "
   ]
  },
  {
   "cell_type": "code",
   "execution_count": 4,
   "metadata": {},
   "outputs": [],
   "source": [
    "def generate_random_stream(size, max_value):\n",
    "    for _ in range(size):\n",
    "        yield random.randint(0, max_value)"
   ]
  },
  {
   "cell_type": "code",
   "execution_count": 5,
   "metadata": {},
   "outputs": [],
   "source": [
    "def generate_fibonacci_stream(size, modulo):\n",
    "    a, b = 0, 1\n",
    "    for _ in range(size):\n",
    "        yield a % modulo\n",
    "        a, b = b, a + b"
   ]
  },
  {
   "cell_type": "code",
   "execution_count": 6,
   "metadata": {},
   "outputs": [],
   "source": [
    "def run_experiment(data_type, size, modulo, k):\n",
    "    heap = MaxHeap(k)\n",
    "    stream_generator = generate_random_stream if data_type == 'random' else generate_fibonacci_stream\n",
    "    start_time = time.perf_counter()\n",
    "    \n",
    "    for value in stream_generator(size, modulo):\n",
    "        heap.add(value)\n",
    "    \n",
    "    end_time = time.perf_counter()\n",
    "    kth_smallest = heap.get_kth_smallest()\n",
    "    total_time = end_time - start_time\n",
    "    \n",
    "    return kth_smallest, total_time"
   ]
  },
  {
   "cell_type": "code",
   "execution_count": 7,
   "metadata": {},
   "outputs": [
    {
     "name": "stdout",
     "output_type": "stream",
     "text": [
      "Data: random, Size: 1000000, Modulo: 1000, K: 100, K'th smallest: 0, Time: 0.3189 seconds\n",
      "Data: random, Size: 100000000, Modulo: 1000, K: 100, K'th smallest: 0, Time: 34.0634 seconds\n",
      "Data: random, Size: 1000000, Modulo: 1000, K: 10000, K'th smallest: 9, Time: 0.3433 seconds\n",
      "Data: random, Size: 100000000, Modulo: 1000, K: 10000, K'th smallest: 0, Time: 31.6866 seconds\n",
      "Data: random, Size: 1000000, Modulo: 1000, K: 1000000, K'th smallest: 1000, Time: 0.3708 seconds\n",
      "Data: random, Size: 100000000, Modulo: 1000, K: 1000000, K'th smallest: 10, Time: 36.6616 seconds\n",
      "Data: random, Size: 1000000, Modulo: 1000000, K: 100, K'th smallest: 104, Time: 0.3050 seconds\n",
      "Data: random, Size: 100000000, Modulo: 1000000, K: 100, K'th smallest: 0, Time: 30.4776 seconds\n",
      "Data: random, Size: 1000000, Modulo: 1000000, K: 10000, K'th smallest: 9966, Time: 0.3336 seconds\n",
      "Data: random, Size: 100000000, Modulo: 1000000, K: 10000, K'th smallest: 100, Time: 36.2652 seconds\n",
      "Data: random, Size: 1000000, Modulo: 1000000, K: 1000000, K'th smallest: 1000000, Time: 0.6971 seconds\n",
      "Data: random, Size: 100000000, Modulo: 1000000, K: 1000000, K'th smallest: 9978, Time: 64.7868 seconds\n",
      "Data: random, Size: 1000000, Modulo: 100000000, K: 100, K'th smallest: 10611, Time: 0.3209 seconds\n",
      "Data: random, Size: 100000000, Modulo: 100000000, K: 100, K'th smallest: 100, Time: 48.4363 seconds\n",
      "Data: random, Size: 1000000, Modulo: 100000000, K: 10000, K'th smallest: 997391, Time: 0.3489 seconds\n",
      "Data: random, Size: 100000000, Modulo: 100000000, K: 10000, K'th smallest: 10060, Time: 37.0345 seconds\n",
      "Data: random, Size: 1000000, Modulo: 100000000, K: 1000000, K'th smallest: 99999927, Time: 0.7659 seconds\n",
      "Data: random, Size: 100000000, Modulo: 100000000, K: 1000000, K'th smallest: 1000671, Time: 81.9824 seconds\n"
     ]
    }
   ],
   "source": [
    "results = []\n",
    "stream_sizes = [1000000, 100000000]\n",
    "modulos = [1000, 1000000, 100000000]\n",
    "ks = [100, 10000, 1000000]\n",
    "\n",
    "for data_type in ['random']:\n",
    "    for modulo in modulos:\n",
    "        for k in ks:\n",
    "            for size in stream_sizes:\n",
    "                kth_smallest, total_time = run_experiment(data_type, size, modulo, k)\n",
    "                results.append((data_type, size, modulo, k, kth_smallest, total_time))\n",
    "\n",
    "# Now you can print or save the results\n",
    "for result in results:\n",
    "    print(f\"Data: {result[0]}, Size: {result[1]}, Modulo: {result[2]}, K: {result[3]}, K'th smallest: {result[4]}, Time: {result[5]:.4f} seconds\")\n"
   ]
  },
  {
   "cell_type": "code",
   "execution_count": 9,
   "metadata": {},
   "outputs": [
    {
     "name": "stdout",
     "output_type": "stream",
     "text": [
      "Data: fibonacci, Size: 1000000, Modulo: 1000, K: 100, K'th smallest: 0, Time: 72.6925 seconds\n",
      "Data: fibonacci, Size: 1000000, Modulo: 1000, K: 10000, K'th smallest: 9, Time: 107.1915 seconds\n",
      "Data: fibonacci, Size: 1000000, Modulo: 1000, K: 1000000, K'th smallest: 999, Time: 99.1714 seconds\n",
      "Data: fibonacci, Size: 1000000, Modulo: 1000000, K: 100, K'th smallest: 93, Time: 105.5524 seconds\n",
      "Data: fibonacci, Size: 1000000, Modulo: 1000000, K: 10000, K'th smallest: 9954, Time: 111.3390 seconds\n",
      "Data: fibonacci, Size: 1000000, Modulo: 1000000, K: 1000000, K'th smallest: 999997, Time: 79.1165 seconds\n",
      "Data: fibonacci, Size: 1000000, Modulo: 100000000, K: 100, K'th smallest: 6464, Time: 57.5088 seconds\n",
      "Data: fibonacci, Size: 1000000, Modulo: 100000000, K: 10000, K'th smallest: 977369, Time: 57.2106 seconds\n",
      "Data: fibonacci, Size: 1000000, Modulo: 100000000, K: 1000000, K'th smallest: 99999848, Time: 57.1575 seconds\n"
     ]
    }
   ],
   "source": [
    "results = []\n",
    "stream_sizes = [1000000]\n",
    "modulos = [1000, 1000000, 100000000]\n",
    "ks = [100, 10000, 1000000]\n",
    "\n",
    "for data_type in ['fibonacci']:\n",
    "    for modulo in modulos:\n",
    "        for k in ks:\n",
    "            for size in stream_sizes:\n",
    "                kth_smallest, total_time = run_experiment(data_type, size, modulo, k)\n",
    "                results.append((data_type, size, modulo, k, kth_smallest, total_time))\n",
    "\n",
    "# Now you can print or save the results\n",
    "for result in results:\n",
    "    print(f\"Data: {result[0]}, Size: {result[1]}, Modulo: {result[2]}, K: {result[3]}, K'th smallest: {result[4]}, Time: {result[5]:.4f} seconds\")\n"
   ]
  }
 ],
 "metadata": {
  "kernelspec": {
   "display_name": ".venv",
   "language": "python",
   "name": "python3"
  },
  "language_info": {
   "codemirror_mode": {
    "name": "ipython",
    "version": 3
   },
   "file_extension": ".py",
   "mimetype": "text/x-python",
   "name": "python",
   "nbconvert_exporter": "python",
   "pygments_lexer": "ipython3",
   "version": "3.12.5"
  }
 },
 "nbformat": 4,
 "nbformat_minor": 2
}
