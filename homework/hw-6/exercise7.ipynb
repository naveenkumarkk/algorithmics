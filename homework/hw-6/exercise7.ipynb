{
 "cells": [
  {
   "cell_type": "code",
   "execution_count": 3,
   "metadata": {},
   "outputs": [],
   "source": [
    "class TrieNode:\n",
    "    def __init__(self):\n",
    "        self.children = {}\n",
    "        self.is_end_of_word = False\n",
    "\n",
    "class Trie:\n",
    "    def __init__(self):\n",
    "        self.root = TrieNode()\n",
    "    \n",
    "    def insert(self,word):\n",
    "        node = self.root\n",
    "        for char in word:\n",
    "            if char not in node.children:\n",
    "                node.children[char] = TrieNode()\n",
    "            node = node.children[char]\n",
    "        node.is_end_of_word = True\n",
    "    \n",
    "    def dfs_with_parentheses(self,node=None,label = '',output = None):\n",
    "        if output is None:\n",
    "            output = []\n",
    "\n",
    "        if node is None:\n",
    "            node = self.root\n",
    "        \n",
    "        if label:\n",
    "            output.append(f\"({label}\")\n",
    "\n",
    "        for child in node.children:\n",
    "            self.dfs_with_parentheses(node.children[child],child,output)\n",
    "        \n",
    "        if label:\n",
    "            output.append(\")\")\n",
    "        return output\n",
    "\n",
    "    def size_of_subtree(self,output,node_label):\n",
    "        open_idx = -1\n",
    "        for i, token in enumerate(output):\n",
    "            if token == f\"({node_label}\":\n",
    "                open_idx = i\n",
    "                break\n",
    "        \n",
    "        if open_idx == -1:\n",
    "            return 0\n",
    "        \n",
    "        count = 0\n",
    "        depth = 0\n",
    "\n",
    "        for i in range(open_idx,len(output)):\n",
    "            if \"(\" in output[i]:\n",
    "                depth += 1\n",
    "                count += 1\n",
    "            elif \")\" in output[i]:\n",
    "                depth -= 1\n",
    "                if depth == 0:\n",
    "                    break\n",
    "        return count"
   ]
  },
  {
   "cell_type": "code",
   "execution_count": 4,
   "metadata": {},
   "outputs": [],
   "source": [
    "def load_words(file_path):\n",
    "    with open(file_path, 'r') as file:\n",
    "        words = file.read().splitlines()\n",
    "    return words"
   ]
  },
  {
   "cell_type": "code",
   "execution_count": 9,
   "metadata": {},
   "outputs": [
    {
     "name": "stdout",
     "output_type": "stream",
     "text": [
      "Number of nodes in the Trie: 1420646\n",
      "Estimated size of the compact representation (in terms of parentheses): 2841292\n"
     ]
    }
   ],
   "source": [
    "words = load_words('words.txt') \n",
    "trie = Trie()\n",
    "\n",
    "for word in words:\n",
    "    trie.insert(word)\n",
    "\n",
    "\n",
    "# Perform DFS to get the parenthesis-based representation\n",
    "parenthesis_output = trie.dfs_with_parentheses()\n",
    "\n",
    "# Count the number of nodes (number of opening parentheses) in the Trie\n",
    "num_nodes = sum(1 for token in parenthesis_output if '(' in token)\n",
    "\n",
    "# Estimate the size of the compact representation\n",
    "# Each node in the Trie corresponds to an opening parenthesis \"(\" and a letter\n",
    "# Each node requires an opening \"(\" and a closing \")\" and stores a letter\n",
    "estimated_size = num_nodes * 2  # One opening and one closing parenthesis per node\n",
    "\n",
    "# Print the estimated size of the compact representation\n",
    "print(f\"Number of nodes in the Trie: {num_nodes}\")\n",
    "print(f\"Estimated size of the compact representation (in terms of parentheses): {estimated_size}\")\n"
   ]
  }
 ],
 "metadata": {
  "kernelspec": {
   "display_name": ".venv",
   "language": "python",
   "name": "python3"
  },
  "language_info": {
   "codemirror_mode": {
    "name": "ipython",
    "version": 3
   },
   "file_extension": ".py",
   "mimetype": "text/x-python",
   "name": "python",
   "nbconvert_exporter": "python",
   "pygments_lexer": "ipython3",
   "version": "3.12.5"
  }
 },
 "nbformat": 4,
 "nbformat_minor": 2
}
