{
 "cells": [
  {
   "cell_type": "code",
   "execution_count": 1,
   "metadata": {},
   "outputs": [],
   "source": [
    "class Node:\n",
    "    def __init__(self,value):\n",
    "        self.value = value\n",
    "        self.left = None\n",
    "        self.right = None"
   ]
  },
  {
   "cell_type": "code",
   "execution_count": 2,
   "metadata": {},
   "outputs": [
    {
     "name": "stdout",
     "output_type": "stream",
     "text": [
      "Collatz Sequence: [17, 52, 26, 13, 40, 20, 10, 5, 16, 8, 4, 2, 1]\n"
     ]
    }
   ],
   "source": [
    "def generate_collatz_sequence(n):\n",
    "    sequence = []\n",
    "    while n != 1:\n",
    "        sequence.append(n)\n",
    "        if n % 2 == 0:\n",
    "            n = n // 2\n",
    "        else:\n",
    "            n = 3 * n + 1\n",
    "    sequence.append(1)  # Don't forget to add 1 at the end\n",
    "    return sequence\n",
    "\n",
    "# Test it\n",
    "collatz_sequence = generate_collatz_sequence(17)\n",
    "print(\"Collatz Sequence:\", collatz_sequence)"
   ]
  },
  {
   "cell_type": "code",
   "execution_count": 3,
   "metadata": {},
   "outputs": [],
   "source": [
    "def insert(root,value):\n",
    "    if root is None:\n",
    "        return Node(value)\n",
    "    \n",
    "    if value < root.value:\n",
    "        root.left = insert(root.left,value)\n",
    "    else :\n",
    "        root.right = insert(root.right,value)\n",
    "    \n",
    "    return root"
   ]
  },
  {
   "cell_type": "code",
   "execution_count": 4,
   "metadata": {},
   "outputs": [],
   "source": [
    "def create_bst_from_sequence(sequence):\n",
    "    root = None\n",
    "    for value in sequence:\n",
    "        root = insert(root,value)\n",
    "    return root\n",
    "\n",
    "bst_root = create_bst_from_sequence(collatz_sequence)"
   ]
  },
  {
   "cell_type": "code",
   "execution_count": 5,
   "metadata": {},
   "outputs": [
    {
     "name": "stdout",
     "output_type": "stream",
     "text": [
      "Inorder Traversale of BST:\n",
      "1 2 4 5 8 10 13 16 17 20 26 40 52 "
     ]
    }
   ],
   "source": [
    "def inorder_traversal(node):\n",
    "    if node is not None:\n",
    "        inorder_traversal(node.left)\n",
    "        print(node.value,end=\" \")\n",
    "        inorder_traversal(node.right)\n",
    "\n",
    "print(\"Inorder Traversale of BST:\")\n",
    "inorder_traversal(bst_root)"
   ]
  },
  {
   "cell_type": "code",
   "execution_count": 7,
   "metadata": {},
   "outputs": [],
   "source": [
    "from collections import deque\n",
    "\n",
    "def generate_succint_representation(root):\n",
    "    bit_vector = []\n",
    "    node_list = []\n",
    "\n",
    "    if root is None:\n",
    "        return bit_vector, node_list\n",
    "    \n",
    "    queue = deque([root])\n",
    "\n",
    "    while queue:\n",
    "        node = queue.popleft()\n",
    "\n",
    "        node_list.append(node.value)\n",
    "\n",
    "        if node.left or node.right:\n",
    "            bit_vector.append(1)\n",
    "        else: \n",
    "            bit_vector.append(0)\n",
    "\n",
    "        if node.left:\n",
    "            queue.append(node.left)\n",
    "        if node.right:\n",
    "            queue.append(node.right)\n",
    "        \n",
    "    return bit_vector,node_list"
   ]
  },
  {
   "cell_type": "code",
   "execution_count": 8,
   "metadata": {},
   "outputs": [
    {
     "name": "stdout",
     "output_type": "stream",
     "text": [
      "Bit Vector [1, 1, 1, 1, 0, 1, 1, 0, 0, 1, 0, 1, 0]\n",
      "Node List: [17, 13, 52, 10, 16, 26, 5, 20, 40, 4, 8, 2, 1]\n"
     ]
    }
   ],
   "source": [
    "bit_vector,node_list = generate_succint_representation(bst_root)\n",
    "\n",
    "print(\"Bit Vector\",bit_vector)\n",
    "print(\"Node List:\",node_list)"
   ]
  },
  {
   "cell_type": "code",
   "execution_count": 14,
   "metadata": {},
   "outputs": [],
   "source": [
    "def traverse_succinct_tree(bit_vector,node_list):\n",
    "    if not bit_vector or not node_list:\n",
    "        return\n",
    "\n",
    "    queue = deque([(0,0)])\n",
    "\n",
    "    while queue:\n",
    "        node_idx,level = queue.popleft()\n",
    "\n",
    "        if node_idx < len(node_list):\n",
    "            node_value = node_list[node_idx]\n",
    "            print(node_value,end = \" \")\n",
    "        else:\n",
    "            print(\"L\",end = \" \")\n",
    "\n",
    "\n",
    "        if node_idx < len(bit_vector) and bit_vector[node_idx] == 1:\n",
    "            left_child_idx = 2 * node_idx + 1\n",
    "            right_child_idx = 2 * node_idx + 2\n",
    "\n",
    "            if left_child_idx < len(node_list):\n",
    "                queue.append((left_child_idx,level + 1))\n",
    "            else:\n",
    "                print(\"L\", end=\" \")\n",
    "            \n",
    "            if right_child_idx < len(node_list):\n",
    "                queue.append((right_child_idx,level + 1))\n",
    "            else:\n",
    "                print(\"L\", end=\" \")"
   ]
  },
  {
   "cell_type": "code",
   "execution_count": 15,
   "metadata": {},
   "outputs": [
    {
     "name": "stdout",
     "output_type": "stream",
     "text": [
      "\n",
      "Traversal of Succinct Tree:\n",
      "17 13 52 10 16 26 5 L L 20 40 2 L L 1 "
     ]
    }
   ],
   "source": [
    "print(\"\\nTraversal of Succinct Tree:\")\n",
    "traverse_succinct_tree(bit_vector, node_list)"
   ]
  },
  {
   "cell_type": "code",
   "execution_count": 16,
   "metadata": {},
   "outputs": [
    {
     "name": "stdout",
     "output_type": "stream",
     "text": [
      "The index of the 3-th '1' is: 2\n"
     ]
    }
   ],
   "source": [
    "def find_kth_one(bit_vector,k):\n",
    "    count = 0\n",
    "    for index, bit in enumerate(bit_vector):\n",
    "        if bit == 1:\n",
    "            count += 1\n",
    "        if count == k:\n",
    "            return index\n",
    "        \n",
    "    return -1\n",
    "\n",
    "k = 3\n",
    "result = find_kth_one(bit_vector, k)\n",
    "print(f\"The index of the {k}-th '1' is:\", result)\n"
   ]
  },
  {
   "cell_type": "code",
   "execution_count": 17,
   "metadata": {},
   "outputs": [
    {
     "name": "stdout",
     "output_type": "stream",
     "text": [
      "The number of '1's up to index 5 is: 5\n"
     ]
    }
   ],
   "source": [
    "def count_ones_up_to_m(bit_vector, m):\n",
    "    count = 0\n",
    "    for index in range(min(m + 1, len(bit_vector))):  # Ensure m is within bounds\n",
    "        if bit_vector[index] == 1:\n",
    "            count += 1\n",
    "    return count\n",
    "\n",
    "m = 5  # Count the number of 1's up to index 5\n",
    "result = count_ones_up_to_m(bit_vector, m)\n",
    "print(f\"The number of '1's up to index {m} is:\", result)"
   ]
  }
 ],
 "metadata": {
  "kernelspec": {
   "display_name": ".venv",
   "language": "python",
   "name": "python3"
  },
  "language_info": {
   "codemirror_mode": {
    "name": "ipython",
    "version": 3
   },
   "file_extension": ".py",
   "mimetype": "text/x-python",
   "name": "python",
   "nbconvert_exporter": "python",
   "pygments_lexer": "ipython3",
   "version": "3.12.5"
  }
 },
 "nbformat": 4,
 "nbformat_minor": 2
}
