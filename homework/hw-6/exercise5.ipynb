{
 "cells": [
  {
   "cell_type": "code",
   "execution_count": 13,
   "metadata": {},
   "outputs": [],
   "source": [
    "class TrieNode:\n",
    "    def __init__(self):\n",
    "        self.children = {}\n",
    "        self.is_end_of_word = False\n",
    "\n",
    "class Trie:\n",
    "    def __init__(self):\n",
    "        self.root = TrieNode()\n",
    "    \n",
    "    def insert(self,word):\n",
    "        node = self.root\n",
    "        for char in word:\n",
    "            if char not in node.children:\n",
    "                node.children[char] = TrieNode()\n",
    "            node = node.children[char]\n",
    "        node.is_end_of_word = True\n",
    "    \n",
    "    def dfs_with_parentheses(self,node=None,label = '',output = None):\n",
    "        if output is None:\n",
    "            output = []\n",
    "\n",
    "        if node is None:\n",
    "            node = self.root\n",
    "        \n",
    "        if label:\n",
    "            output.append(f\"({label}\")\n",
    "\n",
    "        for child in node.children:\n",
    "            self.dfs_with_parentheses(node.children[child],child,output)\n",
    "        \n",
    "        if label:\n",
    "            output.append(\")\")\n",
    "        return output\n",
    "\n",
    "    def size_of_subtree(self,output,node_label):\n",
    "        open_idx = -1\n",
    "        for i, token in enumerate(output):\n",
    "            if token == f\"({node_label}\":\n",
    "                open_idx = i\n",
    "                break\n",
    "        \n",
    "        if open_idx == -1:\n",
    "            return 0\n",
    "        \n",
    "        count = 0\n",
    "        depth = 0\n",
    "\n",
    "        for i in range(open_idx,len(output)):\n",
    "            if \"(\" in output[i]:\n",
    "                depth += 1\n",
    "                count += 1\n",
    "            elif \")\" in output[i]:\n",
    "                depth -= 1\n",
    "                if depth == 0:\n",
    "                    break\n",
    "        return count"
   ]
  },
  {
   "cell_type": "code",
   "execution_count": 16,
   "metadata": {},
   "outputs": [
    {
     "name": "stdout",
     "output_type": "stream",
     "text": [
      "Parenthesis-based DFS representation: (a (c (t (i (o (n (a (b (l (e ) ) ) ) ) ) (v (a (t (e ) (o (r ) ) ) ) (e (l (y ) ) ) (i (t (y ) ) (s (t ) ) ) ) (n (g ) (i (u (m ) ) ) (o (i (d ) ) (s (p (h (e (r (e ) ) ) ) ) ) ) ) ) (o (r ) ) (u (a (l ) (t (e ) (i (o (n ) ) ) ) ) ) (r (e (s (s ) ) ) ) ) ) ) (  (a (c (t (o (m (y (o (s (i (n ) ) ) ) ) ) ) ) ) ) )\n",
      "Size of subtree rooted at 'c': 51\n",
      "Size of subtree rooted at 'd': 1\n"
     ]
    }
   ],
   "source": [
    "words = [\"action\", \"activate\", \"actor\", \"active\", \"activity\", \"actual\", \"actress\" , \"actionable\", \"activist\", \"actuate\", \"act\", \"acting\", \"activator\", \"actuation\", \"actively\", \"actin\", \"actinium\", \"actinoid\", \"actinosphere\", \" actomyosin\"]\n",
    "trie = Trie()\n",
    "\n",
    "for word in words:\n",
    "    trie.insert(word)\n",
    "\n",
    "\n",
    "parenthesis_output = trie.dfs_with_parentheses()\n",
    "print(\"Parenthesis-based DFS representation:\",\" \".join(parenthesis_output))\n",
    "# Calculate the size of subtree rooted at 'c'\n",
    "subtree_size = trie.size_of_subtree(parenthesis_output, 'c')\n",
    "print(f\"Size of subtree rooted at 'c':\", subtree_size)\n",
    "\n",
    "# Calculate the size of subtree rooted at 'c'\n",
    "subtree_size = trie.size_of_subtree(parenthesis_output, 'd')\n",
    "print(f\"Size of subtree rooted at 'd':\", subtree_size)"
   ]
  }
 ],
 "metadata": {
  "kernelspec": {
   "display_name": ".venv",
   "language": "python",
   "name": "python3"
  },
  "language_info": {
   "codemirror_mode": {
    "name": "ipython",
    "version": 3
   },
   "file_extension": ".py",
   "mimetype": "text/x-python",
   "name": "python",
   "nbconvert_exporter": "python",
   "pygments_lexer": "ipython3",
   "version": "3.12.5"
  }
 },
 "nbformat": 4,
 "nbformat_minor": 2
}
