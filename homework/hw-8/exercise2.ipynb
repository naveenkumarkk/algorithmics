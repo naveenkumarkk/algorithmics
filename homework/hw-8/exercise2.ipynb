{
 "cells": [
  {
   "cell_type": "code",
   "execution_count": 1,
   "metadata": {},
   "outputs": [],
   "source": [
    "import networkx as nx\n",
    "\n",
    "def compute_weight(word1, word2):\n",
    "    \"\"\"Compute the weight of an edge between two words as per the given formula.\"\"\"\n",
    "    len_diff = abs(len(word1) - len(word2))\n",
    "    differences = len_diff\n",
    "    min_len = min(len(word1), len(word2))\n",
    "    for c1, c2 in zip(word1[:min_len], word2[:min_len]):\n",
    "        if c1 != c2:\n",
    "            differences += 1\n",
    "    return 2 * differences - 1\n",
    "\n",
    "def build_weighted_graph(words):\n",
    "    \"\"\"Build a weighted graph where nodes are words and edges are weighted based on differences.\"\"\"\n",
    "    G = nx.Graph()\n",
    "    G.add_nodes_from(words)\n",
    "    total_words = len(words)\n",
    "    for i in range(total_words):\n",
    "        for j in range(i + 1, total_words):\n",
    "            word1 = words[i]\n",
    "            word2 = words[j]\n",
    "            weight = compute_weight(word1, word2)\n",
    "            if weight <= 5: \n",
    "                G.add_edge(word1, word2, weight=weight)\n",
    "    return G\n"
   ]
  },
  {
   "cell_type": "code",
   "execution_count": 4,
   "metadata": {},
   "outputs": [],
   "source": [
    "def read_words(filename):\n",
    "    \"\"\"Read words from a file and return a list.\"\"\"\n",
    "    with open(filename, 'r') as f:\n",
    "        return [line.strip() for line in f if line.strip()]"
   ]
  },
  {
   "cell_type": "code",
   "execution_count": 9,
   "metadata": {},
   "outputs": [
    {
     "name": "stdout",
     "output_type": "stream",
     "text": [
      "Shortest path from 'stake' to 'skirt': stake -> start -> skirt\n",
      "Total cost: 6\n"
     ]
    }
   ],
   "source": [
    "def find_shortest_path(G, word1, word2):\n",
    "    \"\"\"Find the shortest path between two words using Dijkstra's algorithm.\"\"\"\n",
    "    try:\n",
    "        path = nx.dijkstra_path(G, source=word1, target=word2, weight='weight')\n",
    "        path_length = nx.dijkstra_path_length(G, source=word1, target=word2, weight='weight')\n",
    "        print(f\"Shortest path from '{word1}' to '{word2}': {' -> '.join(path)}\")\n",
    "        print(f\"Total cost: {path_length}\")\n",
    "    except nx.NetworkXNoPath:\n",
    "        print(f\"No path exists between '{word1}' and '{word2}'.\")\n",
    "\n",
    "\n",
    "words = read_words('words5.txt')\n",
    "G = build_weighted_graph(words)\n",
    "find_shortest_path(G, 'stake', 'skirt')\n"
   ]
  }
 ],
 "metadata": {
  "kernelspec": {
   "display_name": ".venv",
   "language": "python",
   "name": "python3"
  },
  "language_info": {
   "codemirror_mode": {
    "name": "ipython",
    "version": 3
   },
   "file_extension": ".py",
   "mimetype": "text/x-python",
   "name": "python",
   "nbconvert_exporter": "python",
   "pygments_lexer": "ipython3",
   "version": "3.12.5"
  }
 },
 "nbformat": 4,
 "nbformat_minor": 2
}
