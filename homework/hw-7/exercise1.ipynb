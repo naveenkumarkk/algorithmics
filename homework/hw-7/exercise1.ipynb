{
 "cells": [
  {
   "cell_type": "code",
   "execution_count": 4,
   "metadata": {},
   "outputs": [
    {
     "name": "stdout",
     "output_type": "stream",
     "text": [
      "The length of the cycle for Fibonacci numbers modulo 23 is: 48\n"
     ]
    }
   ],
   "source": [
    "def fibonacci_cycle_length(m):\n",
    "    # Initialize the first two Fibonacci numbers\n",
    "    a, b = 0, 1\n",
    "    \n",
    "    # Dictionary to store pairs and their positions to detect the cycle\n",
    "    seen_pairs = {}\n",
    "    \n",
    "    # Iterate until we find a cycle\n",
    "    for n in range(1, m * m + 2):  # Upper bound is m^2 + 1\n",
    "        # Calculate the current pair\n",
    "        current_pair = (a, b)\n",
    "        \n",
    "        # If the pair is seen before, we found a cycle\n",
    "        if current_pair in seen_pairs:\n",
    "            return n - seen_pairs[current_pair]\n",
    "        \n",
    "        # Store the position of the current pair\n",
    "        seen_pairs[current_pair] = n\n",
    "        \n",
    "        # Move to the next Fibonacci numbers\n",
    "        a, b = b, (a + b) % m\n",
    "    \n",
    "    # If no cycle is found (theoretically, this shouldn't happen)\n",
    "    return None\n",
    "\n",
    "if __name__ == \"__main__\":\n",
    "    m = int(input(\"Enter the value of m: \"))\n",
    "    cycle_length = fibonacci_cycle_length(m)\n",
    "    print(f\"The length of the cycle for Fibonacci numbers modulo {m} is: {cycle_length}\")\n"
   ]
  }
 ],
 "metadata": {
  "kernelspec": {
   "display_name": ".venv",
   "language": "python",
   "name": "python3"
  },
  "language_info": {
   "codemirror_mode": {
    "name": "ipython",
    "version": 3
   },
   "file_extension": ".py",
   "mimetype": "text/x-python",
   "name": "python",
   "nbconvert_exporter": "python",
   "pygments_lexer": "ipython3",
   "version": "3.12.5"
  }
 },
 "nbformat": 4,
 "nbformat_minor": 2
}
